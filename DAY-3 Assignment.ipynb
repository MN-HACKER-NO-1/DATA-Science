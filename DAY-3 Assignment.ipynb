{
 "cells": [
  {
   "cell_type": "markdown",
   "metadata": {},
   "source": [
    "# DAY-3 Assignment"
   ]
  },
  {
   "cell_type": "markdown",
   "metadata": {},
   "source": [
    "Questions 1:\n",
    "Create a numpy array starting from 2 till 50 with a stepsize of 3."
   ]
  },
  {
   "cell_type": "code",
   "execution_count": 1,
   "metadata": {},
   "outputs": [
    {
     "name": "stdout",
     "output_type": "stream",
     "text": [
      "[ 2  5  8 11 14 17 20 23 26 29 32 35 38 41 44 47 50]\n"
     ]
    }
   ],
   "source": [
    "import numpy as np\n",
    "arr=np.array([i for i in range(2,51,3)])\n",
    "print(arr)"
   ]
  },
  {
   "cell_type": "markdown",
   "metadata": {},
   "source": [
    "Questions 2:\n",
    "Accept two lists of 5 elements each from the user.\n",
    "Convert them to numpy arrays. Concatenate these arrays and print it. Also sort these arrays and print it."
   ]
  },
  {
   "cell_type": "code",
   "execution_count": 14,
   "metadata": {},
   "outputs": [
    {
     "name": "stdout",
     "output_type": "stream",
     "text": [
      "Enter the 5 elements of list1\n",
      "1\n",
      "2\n",
      "3\n",
      "4\n",
      "5\n",
      "Enter the 5 elements of list2\n",
      "0\n",
      "9\n",
      "8\n",
      "7\n",
      "6\n",
      "concatenate array\n",
      "[1 2 3 4 5 0 9 8 7 6]\n",
      "sorted array\n",
      "[0 1 2 3 4 5 6 7 8 9]\n"
     ]
    }
   ],
   "source": [
    "li1=[]\n",
    "li2=[]\n",
    "print('Enter the 5 elements of list1')\n",
    "for i in range(5):\n",
    "    li1.append(int(input()))\n",
    "print('Enter the 5 elements of list2')\n",
    "for j in range(5):\n",
    "    li2.append(int(input()))\n",
    "arr1=np.array(li1)\n",
    "arr2=np.array(li2)\n",
    "print('concatenate array')\n",
    "concate_arr=np.concatenate((arr1,arr2))\n",
    "print(concate_arr)\n",
    "print('sorted array')\n",
    "sort_arr=np.sort(arr3)\n",
    "print(sort_arr)\n",
    "\n",
    "\n",
    "    \n",
    "    "
   ]
  },
  {
   "cell_type": "markdown",
   "metadata": {},
   "source": [
    "Questions 3:\n",
    "Write a code snippet to find the dimensions of a ndarray and its size."
   ]
  },
  {
   "cell_type": "code",
   "execution_count": 30,
   "metadata": {},
   "outputs": [
    {
     "name": "stdout",
     "output_type": "stream",
     "text": [
      "Dimentions\n",
      "1 2 3\n",
      "Shape\n",
      "(3,) (3, 4) (2, 3, 4)\n",
      "Size\n",
      "3 3 2\n"
     ]
    }
   ],
   "source": [
    "import numpy as np\n",
    "\n",
    "a_1d = np.arange(3)\n",
    "a_2d = np.arange(12).reshape((3, 4))\n",
    "a_3d = np.arange(24).reshape((2, 3, 4))\n",
    "#how to find the dimentions\n",
    "print('Dimentions')\n",
    "print(a_1d.ndim, a_2d.ndim,  a_3d.ndim)\n",
    "#How to find the shape\n",
    "print('Shape')\n",
    "print(a_1d.shape,a_2d.shape,a_3d.shape)\n",
    "#How to find the size\n",
    "print('Size')\n",
    "print(len(a_1d),len(a_2d),len(a_3d))\n",
    "\n"
   ]
  },
  {
   "cell_type": "markdown",
   "metadata": {},
   "source": [
    "Questions 4:\n",
    "How to convert a 1D array into a 2D array? Demonstrate with the help of a code snippet\n",
    "Hint: np.newaxis, np.expand_dims"
   ]
  },
  {
   "cell_type": "code",
   "execution_count": 38,
   "metadata": {},
   "outputs": [
    {
     "data": {
      "text/plain": [
       "array([[1, 2, 3],\n",
       "       [4, 5, 6]])"
      ]
     },
     "execution_count": 38,
     "metadata": {},
     "output_type": "execute_result"
    }
   ],
   "source": [
    "A = np.array([1,2,3,4,5,6])\n",
    "B=np.reshape(A,(2,3))\n",
    "B"
   ]
  },
  {
   "cell_type": "code",
   "execution_count": 18,
   "metadata": {},
   "outputs": [
    {
     "name": "stdout",
     "output_type": "stream",
     "text": [
      "3\n"
     ]
    }
   ],
   "source": []
  },
  {
   "cell_type": "code",
   "execution_count": null,
   "metadata": {},
   "outputs": [],
   "source": []
  }
 ],
 "metadata": {
  "kernelspec": {
   "display_name": "Python 3",
   "language": "python",
   "name": "python3"
  },
  "language_info": {
   "codemirror_mode": {
    "name": "ipython",
    "version": 3
   },
   "file_extension": ".py",
   "mimetype": "text/x-python",
   "name": "python",
   "nbconvert_exporter": "python",
   "pygments_lexer": "ipython3",
   "version": "3.7.4"
  }
 },
 "nbformat": 4,
 "nbformat_minor": 2
}
